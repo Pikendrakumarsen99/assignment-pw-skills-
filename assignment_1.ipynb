{
  "nbformat": 4,
  "nbformat_minor": 0,
  "metadata": {
    "colab": {
      "provenance": []
    },
    "kernelspec": {
      "name": "python3",
      "display_name": "Python 3"
    },
    "language_info": {
      "name": "python"
    }
  },
  "cells": [
    {
      "cell_type": "code",
      "execution_count": null,
      "metadata": {
        "id": "NY07ReEiza5N"
      },
      "outputs": [],
      "source": []
    },
    {
      "cell_type": "markdown",
      "source": [
        "# QUESTIONS AND ANSWER\n",
        "\n",
        "\n"
      ],
      "metadata": {
        "id": "J9wbv9Ez0F-t"
      }
    },
    {
      "cell_type": "markdown",
      "source": [
        "1. WHAT IS PYTHON AND WHY IT IS POPULAR\n",
        "  - THE PYTHON IS A LANGUAGE IN A VERTUAL WORLD AND USES FOR PROGRAMMING PURPOSES PYTHON IS A FREE CODE THAT IS OPEN TO ALL THE PROGRAMMMERS . THEY CAN EASILY ACCESS FOR FREE NOWA A DAYS PYTHON ARE USES FOR MACHINE LEARNING , DATA SCIENCE AND DATA ANALYTICS.\n",
        "\n"
      ],
      "metadata": {
        "id": "JRL9Eo5r0gep"
      }
    },
    {
      "cell_type": "markdown",
      "source": [
        "2. WHAT IS INTERPRETER IN PYTHON ?\n",
        "  - THE INTERPRETER IS THE PROGRAM THAT READ AND  EXECUTE THE CODE LINE BY LINE"
      ],
      "metadata": {
        "id": "V6SH9l6v2Qu1"
      }
    },
    {
      "cell_type": "markdown",
      "source": [
        "3. WHAT ARE PRE DEFINE KEYWORDS IN PYTHON\n",
        "  - IN PYTHON KEYWORDS ARE THE RESERVE WORDS THAT HAS SPECIFIC PURPOSE AND MEANING"
      ],
      "metadata": {
        "id": "srcvOA-4296u"
      }
    },
    {
      "cell_type": "markdown",
      "source": [
        "4. CAN KEYWORDS BE USED AS A VARIABLE NAME ?\n",
        " - NOT KEYWORDS CANNOT USED AS A VARIABLE NAME"
      ],
      "metadata": {
        "id": "CCW_0EQQ3jaf"
      }
    },
    {
      "cell_type": "markdown",
      "source": [
        "5. WHAT IS MUTABLITY IN PYTHON ?\n",
        "   - MUTABLITY IN PYTHON REFERS TO , WE CAN CHANGE WITHOUT CREATING NEW OBJECTS"
      ],
      "metadata": {
        "id": "33qcNYbS4EDT"
      }
    },
    {
      "cell_type": "markdown",
      "source": [
        "6.  WHY ARE LISTS ARE MUTABLE AND  BUT TUPLES ARE IMMUTALBE?\n",
        "   -  THE LISTS ARE MUTABLE BECAUSE WE CAN CHANGE VALUE IN IT . WITHOUT CONSISDERING NEW ONE BUT IN TUPLE WE CANNOT MODIFY THE VALUES"
      ],
      "metadata": {
        "id": "XQ6UQ8DB4qod"
      }
    },
    {
      "cell_type": "markdown",
      "source": [
        "7. WHAT ARE DIFFERENCE BETWEEN \"==\" AND \"IS\" OPERATOR IN PYHTON ?\n",
        "   - \"==\" REFERS TO THE VALUE IS TRUE  IT MEANS IT IS EQUAL ,C  ALSO CHECKS BOTHS VALUES ARE EQUAL\n",
        "   WHETHER\n",
        "   \"IS\" OPERATOR REFERS TO THE IDENTITY OPERATOR\n",
        "   IT CHECKS TWO VARIABLE REFERS TO THE SAME OBJECTS IN MEMORY"
      ],
      "metadata": {
        "id": "8bwgUMGE5d_6"
      }
    },
    {
      "cell_type": "markdown",
      "source": [
        "8. WHAT ARE THE LOGICAL OPERATOR IN PYTHON ?\n",
        "   - THE LOGICAL OPERATOR ARE USED TO MODIFY OR COMBINE THE BOOLEAN EXPERESSION\n",
        "   THERE ARE THREE LOGICAL OPERATOS ARE\n",
        "   NOT:\n",
        "   AND:\n",
        "   OR:"
      ],
      "metadata": {
        "id": "w-DsFuMD6yZi"
      }
    },
    {
      "cell_type": "markdown",
      "source": [
        "9. WHAT IS TYPE CASTING ?\n",
        "   - IN PYTHON TYPE CASTING ALSO  REFERS TO THE TYPE CONVERSION\n",
        "   ITS PROCESS TO CHANGING THE VARIABLE INTO ANOTHER DATA TYPE\n",
        "   "
      ],
      "metadata": {
        "id": "6sdKlIjO7tCS"
      }
    },
    {
      "cell_type": "markdown",
      "source": [],
      "metadata": {
        "id": "eyzmPwta8dYv"
      }
    },
    {
      "cell_type": "markdown",
      "source": [
        " 10. WHAT IS THE DIFFERENCE IMPLICIT AND EXPLICIT DATA TYPE ?\n",
        "   - THE IMPLICIT TYPE CASTING ALSO N\n",
        "   KNOW AS WIDENING OR UPCASTING I S AUTHOMATICALLY DONE BY THE COMPILER WHEN SMALL DATA IS CONVERTED INTO LARGE DATA .\n",
        "    THE EXPLICIT IS A TYPE IN WHICH THE IDT DOES OPPOSITE TO THE IMPLICIT , IT NARROWS THE WHICH LEAD TO  THE  LOSS OF DATA"
      ],
      "metadata": {
        "id": "kDukA4by8jY1"
      }
    },
    {
      "cell_type": "markdown",
      "source": [
        "11.   WHAT IS THE PURPOSE OF CONDITIONAL STATEMENT IN PYTHON ?\n",
        "    - IT CONTROLS THE  FLOW OF PROGRAMME ON  WHICH IS BASED ON TRUE OR FALSE"
      ],
      "metadata": {
        "id": "N4dbvCyr-sAm"
      }
    },
    {
      "cell_type": "markdown",
      "source": [],
      "metadata": {
        "id": "D862-ZAK9tD1"
      }
    },
    {
      "cell_type": "markdown",
      "source": [
        "12.   HOW DOES ELIF STATEMENT WORK ?\n",
        "      THE ELIF STATEMENT WORKS BECAUSE TO CHECKS THE MULTIBLE CONDITIONS"
      ],
      "metadata": {
        "id": "51avFTwk_UlS"
      }
    },
    {
      "cell_type": "markdown",
      "source": [
        "13.  WHAT IS THE DIFFERENCE BETWEEN FOR AND WHILE LOOP?\n",
        "    - FOR LOOP USED WHEN NO. OF ITERATION ARE BEFORE HAND\n",
        "      AND\n",
        "      WHILE LOOP ARE MORE FLEXIBLE AND CONTINUING TO EXECUTE A BLOCK OF CODE"
      ],
      "metadata": {
        "id": "J_gHrvJ-_-kk"
      }
    },
    {
      "cell_type": "markdown",
      "source": [
        "  14. CREATE A SCENERIO WHEN WHILE LOOP ARE MORE COMNSIDERABLE THAN FOR LOOP?\n",
        "     - WHEN A COLLECTION HAS NOTHING TO DO TO A SET OF NUMBERS OF ITERATION"
      ],
      "metadata": {
        "id": "hp7WV1cgA9cP"
      }
    },
    {
      "cell_type": "markdown",
      "source": [],
      "metadata": {
        "id": "wqLiR2CrBucZ"
      }
    },
    {
      "cell_type": "markdown",
      "source": [
        "# **PRACTICAL** QUESTIONS\n"
      ],
      "metadata": {
        "id": "BMPMopiFCk6l"
      }
    },
    {
      "cell_type": "code",
      "source": [
        "print(\"hello world\")"
      ],
      "metadata": {
        "colab": {
          "base_uri": "https://localhost:8080/"
        },
        "id": "FWi6MCOjCyw0",
        "outputId": "e728bfd4-723a-46ad-fa55-79e2bde2db30"
      },
      "execution_count": 1,
      "outputs": [
        {
          "output_type": "stream",
          "name": "stdout",
          "text": [
            "hello world\n"
          ]
        }
      ]
    },
    {
      "cell_type": "code",
      "source": [
        "name = input(\"pikendra sen \")\n",
        "age = input(\"eighteen\")\n",
        "print(f\"name : {name}\")\n",
        "print(f\"age :  { age}\")"
      ],
      "metadata": {
        "colab": {
          "base_uri": "https://localhost:8080/"
        },
        "id": "S0AE9rZ6DBYP",
        "outputId": "293ef456-0b66-4342-8d9e-33d746e25f1e"
      },
      "execution_count": 2,
      "outputs": [
        {
          "output_type": "stream",
          "name": "stdout",
          "text": [
            "pikendra sen yes\n",
            "eighteen yes\n",
            "name : yes\n",
            "age :   yes\n"
          ]
        }
      ]
    },
    {
      "cell_type": "code",
      "source": [
        "import keyword\n",
        "print(keyword.kwlist)"
      ],
      "metadata": {
        "colab": {
          "base_uri": "https://localhost:8080/"
        },
        "id": "_xrLdoviEIw7",
        "outputId": "e7c9e1a9-94e8-413b-9778-820190096aaf"
      },
      "execution_count": 3,
      "outputs": [
        {
          "output_type": "stream",
          "name": "stdout",
          "text": [
            "['False', 'None', 'True', 'and', 'as', 'assert', 'async', 'await', 'break', 'class', 'continue', 'def', 'del', 'elif', 'else', 'except', 'finally', 'for', 'from', 'global', 'if', 'import', 'in', 'is', 'lambda', 'nonlocal', 'not', 'or', 'pass', 'raise', 'return', 'try', 'while', 'with', 'yield']\n"
          ]
        }
      ]
    },
    {
      "cell_type": "code",
      "source": [
        " import keyword\n",
        "def is_keyword(word):\n",
        "  return keyword.iskeywod(word)\n",
        "import keyword\n",
        "def is_keyword(word):\n",
        "  return keyword.iskeyword(word)\n",
        "word = input(\"enter a word: \")\n",
        "if is_keyword(word):\n",
        "  print(f\"{word} is a python keyword.\")\n",
        "else:\n",
        "  print(f\"{word} is not a python keyword.\")"
      ],
      "metadata": {
        "colab": {
          "base_uri": "https://localhost:8080/"
        },
        "id": "O37lX09mFSix",
        "outputId": "7270313c-89ed-4460-9935-760dc9030e03"
      },
      "execution_count": 8,
      "outputs": [
        {
          "output_type": "stream",
          "name": "stdout",
          "text": [
            "enter a word: list\n",
            "list is not a python keyword.\n"
          ]
        }
      ]
    },
    {
      "cell_type": "code",
      "source": [
        "dont know  { question no. 5 }"
      ],
      "metadata": {
        "colab": {
          "base_uri": "https://localhost:8080/",
          "height": 106
        },
        "id": "g5NvIEvXGYPb",
        "outputId": "c266577a-733c-49e0-a991-f47edc7b9a7b"
      },
      "execution_count": 10,
      "outputs": [
        {
          "output_type": "error",
          "ename": "SyntaxError",
          "evalue": "invalid syntax (<ipython-input-10-15660d013567>, line 1)",
          "traceback": [
            "\u001b[0;36m  File \u001b[0;32m\"<ipython-input-10-15660d013567>\"\u001b[0;36m, line \u001b[0;32m1\u001b[0m\n\u001b[0;31m    dont know\u001b[0m\n\u001b[0m         ^\u001b[0m\n\u001b[0;31mSyntaxError\u001b[0m\u001b[0;31m:\u001b[0m invalid syntax\n"
          ]
        }
      ]
    },
    {
      "cell_type": "code",
      "source": [
        " dont know { question no 6 }"
      ],
      "metadata": {
        "id": "OilH7CpwG7CG"
      },
      "execution_count": null,
      "outputs": []
    },
    {
      "cell_type": "code",
      "source": [
        "x = 5\n",
        "y = 4\n",
        "z = 14\n",
        "print(\"logical AND (and):\")\n",
        "print(f\"{x}>0  and {y}>0: {x>0 and y>0}\")\n",
        "print(f\"{y}>0  and {z}<0: {y>0 and z>0}\") #AND\n",
        "print(\"logical OR (or):\")\n",
        "print(f\"{x}>0  or {y}>0: {x>0 or y>0}\")\n",
        "print(f\"{X}>0 or {z}>0: {y>0 or z>0}\") #OR\n",
        "print(\"logical NOT (not):\")\n",
        "print(f\"not {x}>0: {not x>0}\")\n",
        "print(f\"not {y}<0: {not y<0}\") #NOT\n",
        "age = 18\n",
        "citizen = true\n",
        "print(\"eligible for coding \")\n",
        "if age >= 18 and citizen == true:\n",
        "  print(\"eligible for coding\")\n",
        "else:\n",
        "  print(\"not eligible for coding\")\n",
        "\n",
        "\n"
      ],
      "metadata": {
        "colab": {
          "base_uri": "https://localhost:8080/",
          "height": 297
        },
        "id": "uDpJvUPoHUTN",
        "outputId": "364ec23e-1ef0-4fea-b0a4-98ac851b91c9"
      },
      "execution_count": 14,
      "outputs": [
        {
          "output_type": "stream",
          "name": "stdout",
          "text": [
            "logical AND (and):\n",
            "5>0  and 4>0: True\n",
            "4>0  and 14<0: True\n",
            "logical OR (or):\n",
            "5>0  or 4>0: True\n"
          ]
        },
        {
          "output_type": "error",
          "ename": "NameError",
          "evalue": "name 'X' is not defined",
          "traceback": [
            "\u001b[0;31m---------------------------------------------------------------------------\u001b[0m",
            "\u001b[0;31mNameError\u001b[0m                                 Traceback (most recent call last)",
            "\u001b[0;32m<ipython-input-14-99f5462723eb>\u001b[0m in \u001b[0;36m<cell line: 0>\u001b[0;34m()\u001b[0m\n\u001b[1;32m      7\u001b[0m \u001b[0mprint\u001b[0m\u001b[0;34m(\u001b[0m\u001b[0;34m\"logical OR (or):\"\u001b[0m\u001b[0;34m)\u001b[0m\u001b[0;34m\u001b[0m\u001b[0;34m\u001b[0m\u001b[0m\n\u001b[1;32m      8\u001b[0m \u001b[0mprint\u001b[0m\u001b[0;34m(\u001b[0m\u001b[0;34mf\"{x}>0  or {y}>0: {x>0 or y>0}\"\u001b[0m\u001b[0;34m)\u001b[0m\u001b[0;34m\u001b[0m\u001b[0;34m\u001b[0m\u001b[0m\n\u001b[0;32m----> 9\u001b[0;31m \u001b[0mprint\u001b[0m\u001b[0;34m(\u001b[0m\u001b[0;34mf\"{X}>0 or {z}>0: {y>0 or z>0}\"\u001b[0m\u001b[0;34m)\u001b[0m \u001b[0;31m#OR\u001b[0m\u001b[0;34m\u001b[0m\u001b[0;34m\u001b[0m\u001b[0m\n\u001b[0m\u001b[1;32m     10\u001b[0m \u001b[0mprint\u001b[0m\u001b[0;34m(\u001b[0m\u001b[0;34m\"logical NOT (not):\"\u001b[0m\u001b[0;34m)\u001b[0m\u001b[0;34m\u001b[0m\u001b[0;34m\u001b[0m\u001b[0m\n\u001b[1;32m     11\u001b[0m \u001b[0mprint\u001b[0m\u001b[0;34m(\u001b[0m\u001b[0;34mf\"not {x}>0: {not x>0}\"\u001b[0m\u001b[0;34m)\u001b[0m\u001b[0;34m\u001b[0m\u001b[0;34m\u001b[0m\u001b[0m\n",
            "\u001b[0;31mNameError\u001b[0m: name 'X' is not defined"
          ]
        }
      ]
    },
    {
      "cell_type": "code",
      "source": [
        "# \\to print 1 to 10\n",
        "for i in range(1,11):\n",
        "  print(i)"
      ],
      "metadata": {
        "colab": {
          "base_uri": "https://localhost:8080/"
        },
        "id": "9MAjPAiVKCHo",
        "outputId": "66948775-b45f-4caf-8d8a-0919949a999f"
      },
      "execution_count": 15,
      "outputs": [
        {
          "output_type": "stream",
          "name": "stdout",
          "text": [
            "1\n",
            "2\n",
            "3\n",
            "4\n",
            "5\n",
            "6\n",
            "7\n",
            "8\n",
            "9\n",
            "10\n"
          ]
        }
      ]
    },
    {
      "cell_type": "code",
      "source": [
        "#sum of all even no. from 1 to 50\n",
        "sum_even = 0\n",
        "for i in range(2,51,2):\n",
        "  sum_even += 1\n",
        "  print(\"sum of even no.\" ,\n",
        "  sum_even)"
      ],
      "metadata": {
        "colab": {
          "base_uri": "https://localhost:8080/"
        },
        "id": "SaADxgzIKmzo",
        "outputId": "5bbbfa55-9d71-406d-f43b-a6ece38adca5"
      },
      "execution_count": 16,
      "outputs": [
        {
          "output_type": "stream",
          "name": "stdout",
          "text": [
            "sum of even no. 1\n",
            "sum of even no. 2\n",
            "sum of even no. 3\n",
            "sum of even no. 4\n",
            "sum of even no. 5\n",
            "sum of even no. 6\n",
            "sum of even no. 7\n",
            "sum of even no. 8\n",
            "sum of even no. 9\n",
            "sum of even no. 10\n",
            "sum of even no. 11\n",
            "sum of even no. 12\n",
            "sum of even no. 13\n",
            "sum of even no. 14\n",
            "sum of even no. 15\n",
            "sum of even no. 16\n",
            "sum of even no. 17\n",
            "sum of even no. 18\n",
            "sum of even no. 19\n",
            "sum of even no. 20\n",
            "sum of even no. 21\n",
            "sum of even no. 22\n",
            "sum of even no. 23\n",
            "sum of even no. 24\n",
            "sum of even no. 25\n"
          ]
        }
      ]
    },
    {
      "cell_type": "code",
      "source": [
        "#write a programme to reverse a string using while loop\n",
        "def reverse_string(input_string):\n",
        "  reversed_string = \"\"\n",
        "  index = len(input_string) - 1\n",
        "  while index >= 0:\n",
        "    reversed_string += input_string[index]\n",
        "    index -= 1\n",
        "  return reversed_string"
      ],
      "metadata": {
        "id": "0_ZJ0RU4MApr"
      },
      "execution_count": 21,
      "outputs": []
    }
  ]
}